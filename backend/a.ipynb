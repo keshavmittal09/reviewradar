{
 "cells": [
  {
   "cell_type": "code",
   "execution_count": null,
   "id": "786a610f",
   "metadata": {},
   "outputs": [],
   "source": [
    "import csv\n",
    "new_row = [ \"yes\",0] \n",
    "with open('review.csv', 'a+', newline='') as file:\n",
    "    if \"how are you ?\" in file :\n",
    "        writer = csv.writer(file)\n",
    "        writer.writerow(new_row)\n",
    "        print(\"allgodd\")\n",
    "    print(\"not in it\",file)\n",
    "\n",
    "    "
   ]
  },
  {
   "cell_type": "code",
   "execution_count": 4,
   "id": "be4d1725",
   "metadata": {},
   "outputs": [
    {
     "name": "stdout",
     "output_type": "stream",
     "text": [
      "hey found\n"
     ]
    },
    {
     "data": {
      "text/plain": [
       "9"
      ]
     },
     "execution_count": 4,
     "metadata": {},
     "output_type": "execute_result"
    }
   ],
   "source": [
    "import pandas as pd\n",
    "\n",
    "# Read only the Name column (for speed)\n",
    "df = pd.read_csv(\"review.csv\")\n",
    "# col = pd.DataFrame(['hjj',1,0])\n",
    "# print(col)\n",
    "\n",
    "# col.to_csv('review.csv')\n",
    "# Check if name exists\n",
    "name_to_check = \"hey\"\n",
    "if name_to_check in df[\"Review\"].values:\n",
    "    print(f\"{name_to_check} found\")\n",
    "else:\n",
    "    print(f\"{name_to_check} not found\")\n",
    "# col\n",
    "\n",
    "c = {len(df[\"Review\"])}\n",
    "c\n",
    "#  df = pd.read_csv('review.csv')\n",
    "\n",
    "number = len(df[\"Review\"])\n",
    "fake_num = len(df[df['Pred_Result'] == 'fake'])\n",
    "fake_num\n"
   ]
  }
 ],
 "metadata": {
  "kernelspec": {
   "display_name": "Python 3",
   "language": "python",
   "name": "python3"
  },
  "language_info": {
   "codemirror_mode": {
    "name": "ipython",
    "version": 3
   },
   "file_extension": ".py",
   "mimetype": "text/x-python",
   "name": "python",
   "nbconvert_exporter": "python",
   "pygments_lexer": "ipython3",
   "version": "3.13.1"
  }
 },
 "nbformat": 4,
 "nbformat_minor": 5
}
